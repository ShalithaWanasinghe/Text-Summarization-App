{
 "cells": [
  {
   "cell_type": "code",
   "execution_count": 1,
   "metadata": {},
   "outputs": [
    {
     "name": "stderr",
     "output_type": "stream",
     "text": [
      "c:\\Users\\ACER\\AppData\\Local\\Programs\\Python\\Python311\\Lib\\site-packages\\tqdm\\auto.py:21: TqdmWarning: IProgress not found. Please update jupyter and ipywidgets. See https://ipywidgets.readthedocs.io/en/stable/user_install.html\n",
      "  from .autonotebook import tqdm as notebook_tqdm\n",
      "Downloading readme: 100%|██████████| 15.6k/15.6k [00:00<?, ?B/s]\n",
      "Downloading data: 100%|██████████| 257M/257M [01:59<00:00, 2.15MB/s] \n",
      "Downloading data: 100%|██████████| 257M/257M [01:42<00:00, 2.49MB/s] \n",
      "Downloading data: 100%|██████████| 259M/259M [02:35<00:00, 1.67MB/s] \n",
      "Downloading data: 100%|██████████| 34.7M/34.7M [00:08<00:00, 3.86MB/s]\n",
      "Downloading data: 100%|██████████| 30.0M/30.0M [00:07<00:00, 4.04MB/s]\n",
      "Generating train split: 100%|██████████| 287113/287113 [00:17<00:00, 16757.77 examples/s]\n",
      "Generating validation split: 100%|██████████| 13368/13368 [00:00<00:00, 27086.64 examples/s]\n",
      "Generating test split: 100%|██████████| 11490/11490 [00:00<00:00, 25919.76 examples/s]\n"
     ]
    }
   ],
   "source": [
    "from transformers import T5Tokenizer, T5ForConditionalGeneration\n",
    "import torch\n",
    "from torch.utils.data import DataLoader, Dataset\n",
    "from sklearn.model_selection import train_test_split\n",
    "from datasets import load_dataset\n",
    "\n",
    "dataset = load_dataset(\"cnn_dailymail\", \"3.0.0\")\n",
    "\n",
    "dataset = dataset['train'].shuffle(seed=42).select([i for i in range(100)])\n",
    "\n",
    "df = dataset.to_pandas()\n",
    "df = df[['article', 'highlights']]\n",
    "df.columns = ['text', 'summary']\n",
    "\n",
    "train_df, val_df = train_test_split(df, test_size=0.1, random_state=42)\n",
    "\n",
    "train_df.to_csv(\"pretrained_dataset_train.csv\", index=False)\n",
    "val_df.to_csv(\"pretrained_dataset_val.csv\", index=False)\n",
    "\n"
   ]
  },
  {
   "cell_type": "code",
   "execution_count": 2,
   "metadata": {},
   "outputs": [
    {
     "name": "stderr",
     "output_type": "stream",
     "text": [
      "c:\\Users\\ACER\\AppData\\Local\\Programs\\Python\\Python311\\Lib\\site-packages\\transformers\\models\\t5\\tokenization_t5.py:240: FutureWarning: This tokenizer was incorrectly instantiated with a model max length of 512 which will be corrected in Transformers v5.\n",
      "For now, this behavior is kept to avoid breaking backwards compatibility when padding/encoding with `truncation is True`.\n",
      "- Be aware that you SHOULD NOT rely on t5-base automatically truncating your input to 512 when padding/encoding.\n",
      "- If you want to encode/pad to sequences longer than 512 you can either instantiate this tokenizer with `model_max_length` or pass `max_length` when encoding/padding.\n",
      "- To avoid this warning, please instantiate this tokenizer with `model_max_length` set to your preferred value.\n",
      "  warnings.warn(\n",
      "You are using the default legacy behaviour of the <class 'transformers.models.t5.tokenization_t5.T5Tokenizer'>. This is expected, and simply means that the `legacy` (previous) behavior will be used so nothing changes for you. If you want to use the new behaviour, set `legacy=False`. This should only be set if you understand what it means, and thouroughly read the reason why this was added as explained in https://github.com/huggingface/transformers/pull/24565\n",
      "Special tokens have been added in the vocabulary, make sure the associated word embeddings are fine-tuned or trained.\n"
     ]
    },
    {
     "name": "stdout",
     "output_type": "stream",
     "text": [
      " * Serving Flask app '__main__'\n",
      " * Debug mode: off\n"
     ]
    },
    {
     "name": "stderr",
     "output_type": "stream",
     "text": [
      "WARNING: This is a development server. Do not use it in a production deployment. Use a production WSGI server instead.\n",
      " * Running on http://127.0.0.1:5000\n",
      "Press CTRL+C to quit\n",
      "127.0.0.1 - - [19/Jan/2024 19:02:08] \"GET / HTTP/1.1\" 200 -\n",
      "127.0.0.1 - - [19/Jan/2024 19:02:09] \"GET /favicon.ico HTTP/1.1\" 404 -\n",
      "127.0.0.1 - - [19/Jan/2024 19:14:34] \"POST /summarize HTTP/1.1\" 200 -\n"
     ]
    }
   ],
   "source": [
    "from flask import Flask, render_template, request\n",
    "from transformers import T5ForConditionalGeneration, T5Tokenizer\n",
    "import pandas as pd\n",
    "\n",
    "app = Flask(__name__)\n",
    "\n",
    "model = T5ForConditionalGeneration.from_pretrained(\"t5-base\")\n",
    "tokenizer = T5Tokenizer.from_pretrained(\"t5-base\")\n",
    "\n",
    "df = pd.read_csv('pretrained_dataset_train.csv', encoding='utf-8') \n",
    "\n",
    "@app.route('/')\n",
    "def index():\n",
    "    return render_template('index.html')\n",
    "\n",
    "@app.route('/summarize', methods=['POST'])\n",
    "def summarize():\n",
    "    article = request.form['article']\n",
    "    summary_length = int(request.form['summary_length'])\n",
    "    style = request.form['style']\n",
    "\n",
    "\n",
    "    prompt_template = f\"Create a {style} summary with {summary_length} words: \"\n",
    "\n",
    "  \n",
    "    input_text = f\"{prompt_template}{article}\"\n",
    "    inputs = tokenizer.encode(input_text, return_tensors=\"pt\", max_length=1024, truncation=True)\n",
    "    personalized_summary_ids = model.generate(inputs, max_length=summary_length, length_penalty=2.0, num_beams=4, early_stopping=True)\n",
    "    personalized_summary = tokenizer.decode(personalized_summary_ids[0], skip_special_tokens=True)\n",
    "\n",
    "    \n",
    "    baseline_summary_ids = model.generate(inputs, max_length=summary_length, length_penalty=2.0, num_beams=4, early_stopping=True)\n",
    "    baseline_summary = tokenizer.decode(baseline_summary_ids[0], skip_special_tokens=True)\n",
    "\n",
    "    return render_template('result.html', article=article, personalized_summary=personalized_summary, baseline_summary=baseline_summary)\n",
    "\n",
    "if __name__ == '__main__':\n",
    "    app.run()\n"
   ]
  },
  {
   "cell_type": "code",
   "execution_count": null,
   "metadata": {},
   "outputs": [],
   "source": []
  }
 ],
 "metadata": {
  "kernelspec": {
   "display_name": "Python 3",
   "language": "python",
   "name": "python3"
  },
  "language_info": {
   "codemirror_mode": {
    "name": "ipython",
    "version": 3
   },
   "file_extension": ".py",
   "mimetype": "text/x-python",
   "name": "python",
   "nbconvert_exporter": "python",
   "pygments_lexer": "ipython3",
   "version": "3.11.5"
  }
 },
 "nbformat": 4,
 "nbformat_minor": 2
}
